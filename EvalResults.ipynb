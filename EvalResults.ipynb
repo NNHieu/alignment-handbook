{
 "cells": [
  {
   "cell_type": "code",
   "execution_count": 1,
   "metadata": {},
   "outputs": [],
   "source": [
    "import numpy as np\n",
    "import pandas as pd\n",
    "import matplotlib.pyplot as plt\n",
    "# from print_result import benchmarks, extract_result_fn_dict, metrics\n",
    "from pathlib import Path\n",
    "import json\n",
    "import seaborn as sns"
   ]
  },
  {
   "cell_type": "code",
   "execution_count": 2,
   "metadata": {},
   "outputs": [],
   "source": [
    "benchmarks = [\n",
    "    'arc',\n",
    "    'gsm8k',\n",
    "    'hellaswag',\n",
    "    'mmlu',\n",
    "    'truthful',\n",
    "    'winograde'\n",
    "]\n",
    "\n",
    "\n",
    "metrics = {\n",
    "    'arc': 'acc_norm,none',\n",
    "    'gsm8k': 'exact_match,strict-match',\n",
    "    'hellaswag': 'acc_norm,none',\n",
    "    'mmlu': 'acc,none',\n",
    "    'truthful': 'acc,none',\n",
    "    'winograde': 'acc,none'\n",
    "}\n",
    "\n",
    "extract_result_fn_dict = {\n",
    "    'arc': lambda js_data: js_data['results']['arc_challenge'][metrics['arc']],\n",
    "    'gsm8k': lambda js_data: js_data['results']['gsm8k'][metrics['gsm8k']],\n",
    "    'hellaswag': lambda js_data: js_data['results']['hellaswag'][metrics['hellaswag']],\n",
    "    'mmlu': lambda js_data: js_data['results']['mmlu'][metrics['mmlu']],\n",
    "    'truthful': lambda js_data: js_data['results']['truthfulqa_mc2'][metrics['truthful']],\n",
    "    'winograde': lambda js_data: js_data['results']['winogrande'][metrics['winograde']],\n",
    "}   "
   ]
  },
  {
   "cell_type": "code",
   "execution_count": 3,
   "metadata": {},
   "outputs": [],
   "source": [
    "def get_all_results(eval_outdir):\n",
    "    eval_results = []\n",
    "    for b in benchmarks:\n",
    "        bench_path = eval_outdir / b\n",
    "        with open(bench_path / 'results.json', 'r') as f:\n",
    "            bench_result = json.load(f)\n",
    "        print(f\"{b} | {metrics[b]} | {extract_result_fn_dict[b](bench_result)}\")\n",
    "        eval_results.append(extract_result_fn_dict[b](bench_result))\n",
    "    return eval_results"
   ]
  },
  {
   "cell_type": "code",
   "execution_count": 4,
   "metadata": {},
   "outputs": [
    {
     "name": "stdout",
     "output_type": "stream",
     "text": [
      "arc | acc_norm,none | 0.4334470989761092\n",
      "gsm8k | exact_match,strict-match | 0.18953752843062927\n",
      "hellaswag | acc_norm,none | 0.7050388368850826\n",
      "mmlu | acc,none | 0.37501780373166216\n",
      "truthful | acc,none | 0.3894225772541875\n",
      "winograde | acc,none | 0.6677190213101816\n"
     ]
    }
   ],
   "source": [
    "eval_outdir = Path(\"/home/ubuntu/hieu.nn/lm-evaluation-harness/eval_outputs/stablelm-2-1_6b\")\n",
    "all_results_pretrain = get_all_results(eval_outdir)\n",
    "all_results_pretrain.insert(0, \"pretrain\")"
   ]
  },
  {
   "cell_type": "code",
   "execution_count": 5,
   "metadata": {},
   "outputs": [
    {
     "name": "stdout",
     "output_type": "stream",
     "text": [
      "arc | acc_norm,none | 0.4274744027303754\n",
      "gsm8k | exact_match,strict-match | 0.14480667172100076\n",
      "hellaswag | acc_norm,none | 0.7040430193188608\n",
      "mmlu | acc,none | 0.3773678963110668\n",
      "truthful | acc,none | 0.40155739399901097\n",
      "winograde | acc,none | 0.6448303078137332\n"
     ]
    }
   ],
   "source": [
    "eval_outdir = Path(\"/home/ubuntu/hieu.nn/Lang/alignment-handbook/eval_outputs/stablelm-2-1_6b-sft-full-2\")\n",
    "all_results_sft = get_all_results(eval_outdir)\n",
    "all_results_sft.insert(0, \"sft\")"
   ]
  },
  {
   "cell_type": "code",
   "execution_count": 6,
   "metadata": {},
   "outputs": [
    {
     "name": "stdout",
     "output_type": "stream",
     "text": [
      "arc | acc_norm,none | 0.447098976109215\n",
      "gsm8k | exact_match,strict-match | 0.16376042456406367\n",
      "hellaswag | acc_norm,none | 0.714299940250946\n",
      "mmlu | acc,none | 0.3854151830223615\n",
      "truthful | acc,none | 0.41847462076295444\n",
      "winograde | acc,none | 0.6527229676400947\n"
     ]
    }
   ],
   "source": [
    "eval_outdir = Path(\"/home/ubuntu/hieu.nn/Lang/alignment-handbook/eval_outputs/stablelm-2-1_6b-dpo-full\")\n",
    "all_results_dpo = get_all_results(eval_outdir)\n",
    "all_results_dpo.insert(0, \"dpo\")"
   ]
  },
  {
   "cell_type": "code",
   "execution_count": 7,
   "metadata": {},
   "outputs": [
    {
     "name": "stdout",
     "output_type": "stream",
     "text": [
      "arc | acc_norm,none | 0.447098976109215\n",
      "gsm8k | exact_match,strict-match | 0.15693707354056102\n",
      "hellaswag | acc_norm,none | 0.7139016132244573\n",
      "mmlu | acc,none | 0.3834923800028486\n",
      "truthful | acc,none | 0.4169889609268836\n",
      "winograde | acc,none | 0.6574585635359116\n"
     ]
    }
   ],
   "source": [
    "eval_outdir = Path(\"/home/ubuntu/hieu.nn/Lang/alignment-handbook/eval_outputs/stablelm-2-1_6b-spin-dpo-0-full\")\n",
    "all_results_spin_dpo_0 = get_all_results(eval_outdir)\n",
    "all_results_spin_dpo_0.insert(0, \"spin-dpo-0\")"
   ]
  },
  {
   "cell_type": "code",
   "execution_count": 8,
   "metadata": {},
   "outputs": [
    {
     "name": "stdout",
     "output_type": "stream",
     "text": [
      "arc | acc_norm,none | 0.44283276450511944\n",
      "gsm8k | exact_match,strict-match | 0.14404852160727824\n",
      "hellaswag | acc_norm,none | 0.7115116510655248\n",
      "mmlu | acc,none | 0.38384845463609174\n",
      "truthful | acc,none | 0.4130343237897026\n",
      "winograde | acc,none | 0.6558800315706393\n"
     ]
    }
   ],
   "source": [
    "eval_outdir = Path(\"/home/ubuntu/hieu.nn/Lang/alignment-handbook/eval_outputs/stablelm-2-1_6b-spin-dpo-1-full\")\n",
    "all_results_spin_dpo_1 = get_all_results(eval_outdir)\n",
    "all_results_spin_dpo_1.insert(0, \"spin-dpo-1\")"
   ]
  },
  {
   "cell_type": "code",
   "execution_count": 9,
   "metadata": {},
   "outputs": [
    {
     "name": "stdout",
     "output_type": "stream",
     "text": [
      "arc | acc_norm,none | 0.4402730375426621\n",
      "gsm8k | exact_match,strict-match | 0.15466262319939347\n",
      "hellaswag | acc_norm,none | 0.7115116510655248\n",
      "mmlu | acc,none | 0.3871243412619285\n",
      "truthful | acc,none | 0.40986914681915776\n",
      "winograde | acc,none | 0.659037095501184\n"
     ]
    }
   ],
   "source": [
    "eval_outdir = Path(\"/home/ubuntu/hieu.nn/Lang/alignment-handbook/eval_outputs/stablelm-2-1_6b-spin-dpo-2-full\")\n",
    "all_results_spin_dpo_2 = get_all_results(eval_outdir)\n",
    "all_results_spin_dpo_2.insert(0, \"spin-dpo-2\")"
   ]
  },
  {
   "cell_type": "code",
   "execution_count": 10,
   "metadata": {},
   "outputs": [
    {
     "name": "stdout",
     "output_type": "stream",
     "text": [
      "arc | acc_norm,none | 0.44283276450511944\n",
      "gsm8k | exact_match,strict-match | 0.1508718726307809\n",
      "hellaswag | acc_norm,none | 0.7098187612029476\n",
      "mmlu | acc,none | 0.3844893889759294\n",
      "truthful | acc,none | 0.4084105986486829\n",
      "winograde | acc,none | 0.65982636148382\n"
     ]
    }
   ],
   "source": [
    "eval_outdir = Path(\"/home/ubuntu/hieu.nn/Lang/alignment-handbook/eval_outputs/stablelm-2-1_6b-spin-dpo-3-full\")\n",
    "all_results_spin_dpo_3 = get_all_results(eval_outdir)\n",
    "all_results_spin_dpo_3.insert(0, \"spin-dpo-3\")"
   ]
  },
  {
   "cell_type": "code",
   "execution_count": 11,
   "metadata": {},
   "outputs": [
    {
     "data": {
      "text/html": [
       "<div>\n",
       "<style scoped>\n",
       "    .dataframe tbody tr th:only-of-type {\n",
       "        vertical-align: middle;\n",
       "    }\n",
       "\n",
       "    .dataframe tbody tr th {\n",
       "        vertical-align: top;\n",
       "    }\n",
       "\n",
       "    .dataframe thead th {\n",
       "        text-align: right;\n",
       "    }\n",
       "</style>\n",
       "<table border=\"1\" class=\"dataframe\">\n",
       "  <thead>\n",
       "    <tr style=\"text-align: right;\">\n",
       "      <th></th>\n",
       "      <th>model</th>\n",
       "      <th>arc</th>\n",
       "      <th>gsm8k</th>\n",
       "      <th>hellaswag</th>\n",
       "      <th>mmlu</th>\n",
       "      <th>truthful</th>\n",
       "      <th>winograde</th>\n",
       "      <th>average</th>\n",
       "    </tr>\n",
       "  </thead>\n",
       "  <tbody>\n",
       "    <tr>\n",
       "      <th>0</th>\n",
       "      <td>pretrain</td>\n",
       "      <td>0.433447</td>\n",
       "      <td>0.189538</td>\n",
       "      <td>0.705039</td>\n",
       "      <td>0.375018</td>\n",
       "      <td>0.389423</td>\n",
       "      <td>0.667719</td>\n",
       "      <td>0.460030</td>\n",
       "    </tr>\n",
       "    <tr>\n",
       "      <th>1</th>\n",
       "      <td>sft</td>\n",
       "      <td>0.427474</td>\n",
       "      <td>0.144807</td>\n",
       "      <td>0.704043</td>\n",
       "      <td>0.377368</td>\n",
       "      <td>0.401557</td>\n",
       "      <td>0.644830</td>\n",
       "      <td>0.450013</td>\n",
       "    </tr>\n",
       "    <tr>\n",
       "      <th>2</th>\n",
       "      <td>spin-dpo-0</td>\n",
       "      <td>0.447099</td>\n",
       "      <td>0.156937</td>\n",
       "      <td>0.713902</td>\n",
       "      <td>0.383492</td>\n",
       "      <td>0.416989</td>\n",
       "      <td>0.657459</td>\n",
       "      <td>0.462646</td>\n",
       "    </tr>\n",
       "    <tr>\n",
       "      <th>3</th>\n",
       "      <td>spin-dpo-1</td>\n",
       "      <td>0.442833</td>\n",
       "      <td>0.144049</td>\n",
       "      <td>0.711512</td>\n",
       "      <td>0.383848</td>\n",
       "      <td>0.413034</td>\n",
       "      <td>0.655880</td>\n",
       "      <td>0.458526</td>\n",
       "    </tr>\n",
       "    <tr>\n",
       "      <th>4</th>\n",
       "      <td>spin-dpo-2</td>\n",
       "      <td>0.440273</td>\n",
       "      <td>0.154663</td>\n",
       "      <td>0.711512</td>\n",
       "      <td>0.387124</td>\n",
       "      <td>0.409869</td>\n",
       "      <td>0.659037</td>\n",
       "      <td>0.460413</td>\n",
       "    </tr>\n",
       "    <tr>\n",
       "      <th>5</th>\n",
       "      <td>spin-dpo-3</td>\n",
       "      <td>0.442833</td>\n",
       "      <td>0.150872</td>\n",
       "      <td>0.709819</td>\n",
       "      <td>0.384489</td>\n",
       "      <td>0.408411</td>\n",
       "      <td>0.659826</td>\n",
       "      <td>0.459375</td>\n",
       "    </tr>\n",
       "  </tbody>\n",
       "</table>\n",
       "</div>"
      ],
      "text/plain": [
       "        model       arc     gsm8k  hellaswag      mmlu  truthful  winograde  \\\n",
       "0    pretrain  0.433447  0.189538   0.705039  0.375018  0.389423   0.667719   \n",
       "1         sft  0.427474  0.144807   0.704043  0.377368  0.401557   0.644830   \n",
       "2  spin-dpo-0  0.447099  0.156937   0.713902  0.383492  0.416989   0.657459   \n",
       "3  spin-dpo-1  0.442833  0.144049   0.711512  0.383848  0.413034   0.655880   \n",
       "4  spin-dpo-2  0.440273  0.154663   0.711512  0.387124  0.409869   0.659037   \n",
       "5  spin-dpo-3  0.442833  0.150872   0.709819  0.384489  0.408411   0.659826   \n",
       "\n",
       "    average  \n",
       "0  0.460030  \n",
       "1  0.450013  \n",
       "2  0.462646  \n",
       "3  0.458526  \n",
       "4  0.460413  \n",
       "5  0.459375  "
      ]
     },
     "execution_count": 11,
     "metadata": {},
     "output_type": "execute_result"
    }
   ],
   "source": [
    "df = pd.DataFrame(data=[all_results_pretrain, all_results_sft, \n",
    "                        # all_results_dpo, \n",
    "                        all_results_spin_dpo_0, \n",
    "                        all_results_spin_dpo_1,\n",
    "                        all_results_spin_dpo_2,\n",
    "                        all_results_spin_dpo_3,\n",
    "                        ], columns=[\"model\", *benchmarks])\n",
    "df['average'] = df[benchmarks].mean(axis=1)\n",
    "df"
   ]
  },
  {
   "cell_type": "code",
   "execution_count": 12,
   "metadata": {},
   "outputs": [
    {
     "data": {
      "image/png": "[encoded data removed]",
      "text/plain": [
       "<Figure size 1000x500 with 1 Axes>"
      ]
     },
     "metadata": {},
     "output_type": "display_data"
    }
   ],
   "source": [
    "sns.set_theme(style=\"whitegrid\")\n",
    "plt.figure(figsize=(10, 5))\n",
    "df = df.melt('model', var_name='benchmark', value_name='value')\n",
    "ax = sns.barplot(x='benchmark', y='value', hue='model', data=df)\n",
    "plt.xticks(rotation=45)\n",
    "plt.show()\n"
   ]
  },
  {
   "cell_type": "code",
   "execution_count": 13,
   "metadata": {},
   "outputs": [],
   "source": [
    "import yaml"
   ]
  },
  {
   "cell_type": "code",
   "execution_count": 16,
   "metadata": {},
   "outputs": [],
   "source": [
    "# open file /home/ubuntu/hieu.nn/Lang/alignment-handbook/recipes/stablelm-2-1_6b/spin-dpo/config_full_0.yaml\n",
    "with open('/home/ubuntu/hieu.nn/Lang/alignment-handbook/recipes/stablelm-2-1_6b/spin-dpo/config_full_0.yaml', 'r') as f:\n",
    "    a = yaml.safe_load(f)"
   ]
  },
  {
   "cell_type": "code",
   "execution_count": 18,
   "metadata": {},
   "outputs": [
    {
     "data": {
      "text/plain": [
       "{'model_name_or_path': '/home/ubuntu/hieu.nn/Lang/alignment-handbook/data/stablelm-2-1_6b-dpo-full',\n",
       " 'torch_dtype': None,\n",
       " 'dataset_mixer': {'/home/ubuntu/hieu.nn/Lang/SPIN/data/sft/ultrachat_200k_generated/0_5000': 1.0},\n",
       " 'dataset_splits': ['train', 'test'],\n",
       " 'preprocessing_num_workers': 12,\n",
       " 'bf16': True,\n",
       " 'beta': 0.01,\n",
       " 'do_eval': False,\n",
       " 'evaluation_strategy': 'no',\n",
       " 'eval_steps': 100,\n",
       " 'gradient_accumulation_steps': 10,\n",
       " 'gradient_checkpointing': True,\n",
       " 'gradient_checkpointing_kwargs': {'use_reentrant': False},\n",
       " 'hub_model_id': 'stablelm-2-1_6b-spin-dpo-0-full',\n",
       " 'learning_rate': 5e-07,\n",
       " 'log_level': 'info',\n",
       " 'logging_steps': 10,\n",
       " 'lr_scheduler_type': 'cosine',\n",
       " 'max_length': 1024,\n",
       " 'max_prompt_length': 512,\n",
       " 'num_train_epochs': 1,\n",
       " 'optim': 'adamw_torch',\n",
       " 'output_dir': 'data/stablelm-2-1_6b-spin-dpo-0-full',\n",
       " 'per_device_train_batch_size': 1,\n",
       " 'per_device_eval_batch_size': 8,\n",
       " 'push_to_hub': True,\n",
       " 'save_strategy': 'steps',\n",
       " 'save_steps': 100,\n",
       " 'save_total_limit': 1,\n",
       " 'seed': 42,\n",
       " 'warmup_ratio': 0.1,\n",
       " 'precompute_ref_log_probs_path': '/home/ubuntu/hieu.nn/Lang/alignment-handbook/data/stablelm-2-1_6b-spin-dpo-0-full/ref_logprobs.pkl'}"
      ]
     },
     "execution_count": 18,
     "metadata": {},
     "output_type": "execute_result"
    }
   ],
   "source": [
    "a"
   ]
  },
  {
   "cell_type": "code",
   "execution_count": 33,
   "metadata": {},
   "outputs": [],
   "source": [
    "def generate_spin_config(template, base_model, generated_dataset_path, iteration, loss_type):\n",
    "    with open(template, 'r') as f:\n",
    "        a = yaml.safe_load(f)\n",
    "    model_name = base_model.split(\"/\")[-1]\n",
    "    if iteration > 0:\n",
    "        a['model_name_or_path'] = str(Path(base_model) / \"spin\" / f\"iter{iteration - 1}\")\n",
    "        a['dataset_mixer'] = {\n",
    "            str(Path(f'/home/ubuntu/hieu.nn/Lang/SPIN/data/sft/ultrachat_200k_generated/{iteration - 1}_5000')): 1.0,\n",
    "            str(Path(f'/home/ubuntu/hieu.nn/Lang/SPIN/data/sft/ultrachat_200k_generated/{iteration}_5000')): 1.0\n",
    "        }\n",
    "    elif iteration == 0:\n",
    "        a['model_name_or_path'] = str(Path(base_model))\n",
    "        a['dataset_mixer'] = {\n",
    "            generated_dataset_path: 1.0\n",
    "        }\n",
    "    a['hub_model_id'] = f\"{model_name}-spin-{loss_type}-iter{iteration}\"\n",
    "    a['output_dir'] = f\"data/{model_name}-spin-{loss_type}-iter{iteration}\"\n",
    "    a['precompute_ref_log_probs_path'] = str(Path(a['output_dir']) / 'ref_logprobs.pkl')\n",
    "    a['loss_type'] = loss_type\n",
    "    return a\n",
    "    "
   ]
  },
  {
   "cell_type": "code",
   "execution_count": 35,
   "metadata": {},
   "outputs": [],
   "source": [
    "a = generate_spin_config('recipes/stablelm-2-1_6b/spin-dpo/config_full_0.yaml', '/home/ubuntu/hieu.nn/Lang/alignment-handbook/data/stablelm-2-1_6b-sft-full', '/home/ubuntu/hieu.nn/Lang/SPIN/data/sft/ultrachat_200k_generated/0_5000', 2, \"sigmoid\")"
   ]
  },
  {
   "cell_type": "code",
   "execution_count": 37,
   "metadata": {},
   "outputs": [],
   "source": [
    "with open(\"tmp.yml\", 'w') as f:\n",
    "    yaml.safe_dump(a, f)"
   ]
  },
  {
   "cell_type": "code",
   "execution_count": null,
   "metadata": {},
   "outputs": [],
   "source": []
  }
 ],
 "metadata": {
  "kernelspec": {
   "display_name": "lang",
   "language": "python",
   "name": "python3"
  },
  "language_info": {
   "codemirror_mode": {
    "name": "ipython",
    "version": 3
   },
   "file_extension": ".py",
   "mimetype": "text/x-python",
   "name": "python",
   "nbconvert_exporter": "python",
   "pygments_lexer": "ipython3",
   "version": "3.10.14"
  }
 },
 "nbformat": 4,
 "nbformat_minor": 2
}
